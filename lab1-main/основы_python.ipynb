{
  "cells": [
    {
      "cell_type": "markdown",
      "metadata": {
        "id": "M-DGa20PaHnu"
      },
      "source": [
        "#Задача 1\n",
        "Написать функцию на вход которой подается строка, состоящая из латинских букв.\n",
        "Функция должна вернуть количество гласных букв (a, e, i, o, u) в этой строке. Написать тесты для кода"
      ]
    },
    {
      "cell_type": "code",
      "execution_count": 1,
      "metadata": {
        "id": "XvX8X_JJ6PCb"
      },
      "outputs": [
        {
          "data": {
            "text/plain": [
              "5"
            ]
          },
          "execution_count": 1,
          "metadata": {},
          "output_type": "execute_result"
        }
      ],
      "source": [
        "def countVowels(string):\n",
        "   vowels = ['a','e','i','o','u']\n",
        "   total = 0\n",
        "   for s in string:\n",
        "      if s in vowels:\n",
        "         total += 1\n",
        "   return total\n",
        "countVowels(\"aeiouh\")"
      ]
    },
    {
      "cell_type": "markdown",
      "metadata": {
        "id": "t2ClV_Y0bbr6"
      },
      "source": [
        "# Задача 2\n",
        "Написать функцию на вход, которой подается строка. Функция должна вернуть true, если\n",
        "каждый символ в строке встречается только 1 раз, иначе должна вернуть false. Написать тесты для кода"
      ]
    },
    {
      "cell_type": "code",
      "execution_count": 40,
      "metadata": {
        "id": "FppbECao6VIz"
      },
      "outputs": [
        {
          "name": "stdout",
          "output_type": "stream",
          "text": [
            "False\n",
            "True\n"
          ]
        }
      ],
      "source": [
        "# Yodef has_unique_characters(input_string):\n",
        "def has_unique_characters(s: str) -> bool:\n",
        "    return len(set(s)) == len(s)\n",
        "print(has_unique_characters(\"sadgff\"))\n",
        "print(has_unique_characters(\"sadgfhlk\"))"
      ]
    },
    {
      "cell_type": "markdown",
      "metadata": {
        "id": "udRiIK1cdt6E"
      },
      "source": [
        "# Задача 3\n",
        "Написать функцию, которая принимает положительное число и возвращает количество\n",
        "бит равных 1 в этом числе. Написать тесты для кода"
      ]
    },
    {
      "cell_type": "code",
      "execution_count": 38,
      "metadata": {
        "id": "6tkfDJRz6dp_"
      },
      "outputs": [
        {
          "name": "stdout",
          "output_type": "stream",
          "text": [
            "0\n",
            "3\n"
          ]
        }
      ],
      "source": [
        "# Your code goes here\n",
        "def count_bits(n):\n",
        "    if n < 0:\n",
        "        raise ValueError(\"Input must be a positive integer.\")\n",
        "    return bin(n).count('1')\n",
        "print(count_bits(0)) #выводит число бит для числа 0\n",
        "print(count_bits(22)) #выводит число бит для числа 22"
      ]
    },
    {
      "cell_type": "markdown",
      "metadata": {
        "id": "26dDUz-Ae17N"
      },
      "source": [
        "# Задача 4\n",
        "Написать функцию, которая принимает положительное число. Функция должна вернуть то,\n",
        "сколько раз необходимо перемножать цифры числа или результат перемножения, чтобы\n",
        "получилось число состоящее из одной цифры.\n",
        "Например, для входного числа:\n",
        "· 39 функция должна вернуть 3, так как 3*9=27 => 2*7=14 => 1*4=4\n",
        "· 4 функция должна вернуть 0, так как число уже состоит из одной цифры\n",
        "· 999 функция должна вернуть 4, так как 9*9*9=729 => 7*2*9=126 => 1*2*6=12 =>\n",
        "1*2=2. Написать тесты для кода"
      ]
    },
    {
      "cell_type": "code",
      "execution_count": 53,
      "metadata": {
        "id": "BH1A_Mgi6i4G"
      },
      "outputs": [
        {
          "name": "stdout",
          "output_type": "stream",
          "text": [
            "2\n",
            "3\n",
            "4\n"
          ]
        }
      ],
      "source": [
        "def multiplicative_persistence(n):\n",
        "    if n < 10:\n",
        "        return 0\n",
        "    \n",
        "    count = 0\n",
        "    while n >= 10:\n",
        "        product = 1\n",
        "        while n > 0:\n",
        "            product *= n % 10\n",
        "            n //= 10\n",
        "        n = product\n",
        "        count += 1\n",
        "        \n",
        "    return count\n",
        "print(multiplicative_persistence(126))\n",
        "print(multiplicative_persistence(39))\n",
        "print(multiplicative_persistence(999))\n",
        "\n",
        "\n"
      ]
    },
    {
      "cell_type": "markdown",
      "metadata": {
        "id": "0nS-kIa8g8vd"
      },
      "source": [
        "# Задача 5\n",
        "Написать функцию, которая принимает два целочисленных вектора одинаковой длины и\n",
        "возвращает среднеквадратическое отклонение двух векторов. Написать тесты для кода"
      ]
    },
    {
      "cell_type": "code",
      "execution_count": 34,
      "metadata": {
        "id": "8iphx4LM6xbx"
      },
      "outputs": [
        {
          "name": "stdout",
          "output_type": "stream",
          "text": [
            "0.816496580927726\n",
            "2.0\n"
          ]
        }
      ],
      "source": [
        "import math\n",
        "\n",
        "def rms_deviation(vec1, vec2):\n",
        "    if len(vec1) != len(vec2):\n",
        "        raise ValueError(\"Both vectors must be of the same length.\")\n",
        "    \n",
        "    n = len(vec1)\n",
        "    squared_differences = [(a - b) * 2 for a, b in zip(vec1, vec2)]\n",
        "    mean_squared_difference = sum(squared_differences) / n\n",
        "    return math.sqrt(mean_squared_difference)\n",
        "print(rms_deviation([3, 2, 2], [2, 2, 2]))\n",
        "print(rms_deviation([5, 4, 3], [2, 2, 2]))\n"
      ]
    },
    {
      "cell_type": "markdown",
      "metadata": {
        "id": "vpIPKL439zkw"
      },
      "source": [
        "# Задача 6\n",
        "Написать функцию, принимающая целое положительное число. Функция должна вернуть\n",
        "строку вида “(n1**p1)(n2**p2)…(nk**pk)” представляющая разложение числа на простые\n",
        "множители (если pi == 1, то выводить только ni).\n",
        "Например, для числа 86240 функция должна вернуть “(2**5)(5)(7**2)(11)”. Написать тесты для кода"
      ]
    },
    {
      "cell_type": "code",
      "execution_count": 34,
      "metadata": {
        "id": "pFebmcZk94Jw"
      },
      "outputs": [
        {
          "data": {
            "text/plain": [
              "0"
            ]
          },
          "execution_count": 34,
          "metadata": {},
          "output_type": "execute_result"
        }
      ],
      "source": [
        "# Your code goes here\n",
        "def prime_factorization(n):\n",
        "    if n < 1:\n",
        "        raise ValueError(\"Input must be a positive integer.\")\n",
        "    \n",
        "    factors = {}\n",
        "    divisor = 2\n",
        "\n",
        "    while n > 1:\n",
        "        while n % divisor == 0:\n",
        "            if divisor in factors:\n",
        "                factors[divisor] += 1\n",
        "            else:\n",
        "                factors[divisor] = 1\n",
        "            n //= divisor\n",
        "        divisor += 1\n",
        "\n",
        "    result = ''\n",
        "    for p, count in factors.items():\n",
        "        if count > 1:\n",
        "            result += f'({p * count})'\n",
        "        else:\n",
        "            result += f'({p})'\n",
        "    \n",
        "    return result\n",
        "multiplicative_persistence(1)\n"
      ]
    },
    {
      "cell_type": "markdown",
      "metadata": {
        "id": "ps2s0BudX7A2"
      },
      "source": [
        "# Задача 7\n",
        "Написать функцию, принимающая целое число n, задающее количество кубиков. Функция\n",
        "должна определить, можно ли из данного кол-ва кубиков построить пирамиду, то есть\n",
        "можно ли представить число n как 1^2+2^2+3^2+…+k^2. Если можно, то функция должна\n",
        "вернуть k, иначе строку “It is impossible”. Написать тесты для кода"
      ]
    },
    {
      "cell_type": "code",
      "execution_count": 31,
      "metadata": {
        "id": "3YPjEXxhX_YT"
      },
      "outputs": [
        {
          "data": {
            "text/plain": [
              "2"
            ]
          },
          "execution_count": 31,
          "metadata": {},
          "output_type": "execute_result"
        }
      ],
      "source": [
        "def can_build_pyramid(n: int):\n",
        "    k = 0\n",
        "    total_cubes = 0\n",
        "    \n",
        "    while total_cubes < n:\n",
        "        k += 1\n",
        "        total_cubes += k ** 2\n",
        "    \n",
        "    if total_cubes == n:\n",
        "        return k\n",
        "    else:\n",
        "        return \"It is impossible\"\n",
        "def test_can_build_pyramid():\n",
        "    assert can_build_pyramid(1) == 1\n",
        "    can_build_pyramid(1)\n",
        "can_build_pyramid(5)\n"
      ]
    },
    {
      "cell_type": "markdown",
      "metadata": {
        "id": "KeKgmIdAQMEJ"
      },
      "source": [
        "# Задача 8\n",
        "Функция принимает на вход положительное число и определяет является ли оно сбалансированным, т.е. сумма цифр до средних равна сумме цифр после. Средними в случае нечетного числа цифр считать одну цифру, в случае четного - две средних. Написать тесты для кода"
      ]
    },
    {
      "cell_type": "code",
      "execution_count": 56,
      "metadata": {
        "id": "gMAAqtqlQrZt"
      },
      "outputs": [
        {
          "name": "stdout",
          "output_type": "stream",
          "text": [
            "True\n",
            "False\n"
          ]
        }
      ],
      "source": [
        "def is_balanced(num):\n",
        "    num_str = str(num)\n",
        "    length = len(num_str)\n",
        "\n",
        "    # Определяем индексы средних цифр\n",
        "    if length % 2 == 0:  # четное количество цифр\n",
        "        mid_index1 = length // 2 - 1\n",
        "        mid_index2 = length // 2\n",
        "        left_half = num_str[:mid_index1+1]\n",
        "        right_half = num_str[mid_index2+1:]\n",
        "    else:  # нечетное количество цифр\n",
        "        mid_index = length // 2\n",
        "        left_half = num_str[:mid_index]\n",
        "        right_half = num_str[mid_index+1:]\n",
        "\n",
        "    # Вычисляем суммы цифр\n",
        "    sum_left = sum(int(digit) for digit in left_half)\n",
        "    sum_right = sum(int(digit) for digit in right_half)\n",
        "\n",
        "    return sum_left == sum_right\n",
        "print(is_balanced(11011))\n",
        "print(is_balanced(11012))"
      ]
    }
  ],
  "metadata": {
    "colab": {
      "provenance": []
    },
    "kernelspec": {
      "display_name": "base",
      "language": "python",
      "name": "python3"
    },
    "language_info": {
      "codemirror_mode": {
        "name": "ipython",
        "version": 3
      },
      "file_extension": ".py",
      "mimetype": "text/x-python",
      "name": "python",
      "nbconvert_exporter": "python",
      "pygments_lexer": "ipython3",
      "version": "3.12.4"
    }
  },
  "nbformat": 4,
  "nbformat_minor": 0
}
